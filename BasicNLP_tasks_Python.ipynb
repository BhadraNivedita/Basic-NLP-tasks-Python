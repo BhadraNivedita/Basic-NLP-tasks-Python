{
 "cells": [
  {
   "cell_type": "code",
   "execution_count": 1,
   "id": "d0cf09d5-292f-4621-8656-1c8d7de08783",
   "metadata": {},
   "outputs": [
    {
     "name": "stderr",
     "output_type": "stream",
     "text": [
      "[nltk_data] Downloading package punkt to /Users/nbhadra/nltk_data...\n",
      "[nltk_data]   Unzipping tokenizers/punkt.zip.\n",
      "[nltk_data] Downloading package averaged_perceptron_tagger to\n",
      "[nltk_data]     /Users/nbhadra/nltk_data...\n",
      "[nltk_data]   Unzipping taggers/averaged_perceptron_tagger.zip.\n"
     ]
    },
    {
     "data": {
      "text/plain": [
       "True"
      ]
     },
     "execution_count": 1,
     "metadata": {},
     "output_type": "execute_result"
    }
   ],
   "source": [
    "import nltk\n",
    "nltk.download('punkt')\n",
    "nltk.download('averaged_perceptron_tagger')"
   ]
  },
  {
   "cell_type": "code",
   "execution_count": 2,
   "id": "9d6d83c3-163a-4d10-92d1-0995a3ec298d",
   "metadata": {},
   "outputs": [
    {
     "name": "stdout",
     "output_type": "stream",
     "text": [
      "Sentence Tokenization:\n",
      "['Natural language processing with Python is fun.', 'It helps in text analysis and data preprocessing.']\n",
      "\n",
      "Word Tokenization:\n",
      "['Natural', 'language', 'processing', 'with', 'Python', 'is', 'fun', '.', 'It', 'helps', 'in', 'text', 'analysis', 'and', 'data', 'preprocessing', '.']\n",
      "\n",
      "Stemming:\n",
      "['natur', 'languag', 'process', 'with', 'python', 'is', 'fun', '.', 'it', 'help', 'in', 'text', 'analysi', 'and', 'data', 'preprocess', '.']\n",
      "\n",
      "Part-of-Speech Tagging:\n",
      "[('Natural', 'JJ'), ('language', 'NN'), ('processing', 'NN'), ('with', 'IN'), ('Python', 'NNP'), ('is', 'VBZ'), ('fun', 'NN'), ('.', '.'), ('It', 'PRP'), ('helps', 'VBZ'), ('in', 'IN'), ('text', 'NN'), ('analysis', 'NN'), ('and', 'CC'), ('data', 'NNS'), ('preprocessing', 'NN'), ('.', '.')]\n"
     ]
    }
   ],
   "source": [
    "import nltk\n",
    "from nltk.tokenize import word_tokenize, sent_tokenize\n",
    "from nltk.stem import PorterStemmer\n",
    "from nltk.tag import pos_tag\n",
    "\n",
    "# Sample text\n",
    "text = \"Natural language processing with Python is fun. It helps in text analysis and data preprocessing.\"\n",
    "\n",
    "# Sentence Tokenization\n",
    "sentences = sent_tokenize(text)\n",
    "print(\"Sentence Tokenization:\")\n",
    "print(sentences)\n",
    "\n",
    "# Word Tokenization\n",
    "words = word_tokenize(text)\n",
    "print(\"\\nWord Tokenization:\")\n",
    "print(words)\n",
    "\n",
    "# Stemming\n",
    "ps = PorterStemmer()\n",
    "stemmed_words = [ps.stem(word) for word in words]\n",
    "print(\"\\nStemming:\")\n",
    "print(stemmed_words)\n",
    "\n",
    "# Part-of-Speech Tagging\n",
    "pos_tags = pos_tag(words)\n",
    "print(\"\\nPart-of-Speech Tagging:\")\n",
    "print(pos_tags)\n"
   ]
  },
  {
   "cell_type": "code",
   "execution_count": null,
   "id": "daa91aeb-bee6-43e8-8a29-3e609c92a7f4",
   "metadata": {},
   "outputs": [],
   "source": []
  }
 ],
 "metadata": {
  "kernelspec": {
   "display_name": "Python 3 (ipykernel)",
   "language": "python",
   "name": "python3"
  },
  "language_info": {
   "codemirror_mode": {
    "name": "ipython",
    "version": 3
   },
   "file_extension": ".py",
   "mimetype": "text/x-python",
   "name": "python",
   "nbconvert_exporter": "python",
   "pygments_lexer": "ipython3",
   "version": "3.11.7"
  }
 },
 "nbformat": 4,
 "nbformat_minor": 5
}
